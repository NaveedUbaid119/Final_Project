{
 "cells": [
  {
   "cell_type": "code",
   "execution_count": 1,
   "metadata": {},
   "outputs": [],
   "source": [
    "import pandas as pd\n",
    "from sklearn.model_selection import train_test_split\n",
    "from sklearn.linear_model import LogisticRegression\n",
    "from sklearn import metrics\n",
    "import matplotlib.pyplot as plt\n",
    "import seaborn as sns\n",
    "from sklearn.preprocessing import PolynomialFeatures\n",
    "import numpy as np"
   ]
  },
  {
   "cell_type": "code",
   "execution_count": 2,
   "metadata": {},
   "outputs": [],
   "source": [
    "data=pd.read_csv(r'/Users/IAmNaveed/Desktop/Bank_Marketing/Data/small_ohe.csv')"
   ]
  },
  {
   "cell_type": "code",
   "execution_count": 3,
   "metadata": {},
   "outputs": [],
   "source": [
    "X = data.drop('y', axis=1).values\n",
    "y = data['y'].values"
   ]
  },
  {
   "cell_type": "markdown",
   "metadata": {},
   "source": [
    "#Train Test Data"
   ]
  },
  {
   "cell_type": "code",
   "execution_count": 4,
   "metadata": {},
   "outputs": [],
   "source": [
    "X_train, X_test, y_train, y_test = train_test_split(X, y, test_size=0.30, random_state=42)"
   ]
  },
  {
   "cell_type": "code",
   "execution_count": 5,
   "metadata": {},
   "outputs": [],
   "source": [
    "degree_1 = PolynomialFeatures(degree=1)\n",
    "degree_2 = PolynomialFeatures(degree=2)\n",
    "degree_3 = PolynomialFeatures(degree=3)\n",
    "X_train_poly1 = degree_1.fit_transform(X_train)\n",
    "X_train_poly2 = degree_2.fit_transform(X_train)\n",
    "X_train_poly3 = degree_3.fit_transform(X_train)"
   ]
  },
  {
   "cell_type": "code",
   "execution_count": 6,
   "metadata": {},
   "outputs": [
    {
     "name": "stderr",
     "output_type": "stream",
     "text": [
      "/Users/IAmNaveed/anaconda3/lib/python3.7/site-packages/sklearn/linear_model/logistic.py:433: FutureWarning: Default solver will be changed to 'lbfgs' in 0.22. Specify a solver to silence this warning.\n",
      "  FutureWarning)\n"
     ]
    }
   ],
   "source": [
    "regression = LogisticRegression()\n",
    "regression.fit(X_train_poly1, y_train)\n",
    "y_test_predict = regression.predict(degree_1.fit_transform(X_test))\n",
    "acc1 = metrics.accuracy_score(y_test_predict, y_test)\n",
    "pre1 = metrics.precision_score(y_test_predict,y_test)\n",
    "rec1 = metrics.recall_score(y_test_predict,y_test)\n",
    "f1_1 = metrics.f1_score(y_test_predict,y_test)"
   ]
  },
  {
   "cell_type": "code",
   "execution_count": 7,
   "metadata": {},
   "outputs": [
    {
     "name": "stderr",
     "output_type": "stream",
     "text": [
      "/Users/IAmNaveed/anaconda3/lib/python3.7/site-packages/sklearn/linear_model/logistic.py:433: FutureWarning: Default solver will be changed to 'lbfgs' in 0.22. Specify a solver to silence this warning.\n",
      "  FutureWarning)\n"
     ]
    }
   ],
   "source": [
    "regression = LogisticRegression()\n",
    "regression.fit(X_train_poly2, y_train)\n",
    "y_test_predict = regression.predict(degree_2.fit_transform(X_test))\n",
    "acc2 = metrics.accuracy_score(y_test_predict, y_test)\n",
    "pre2 = metrics.precision_score(y_test_predict,y_test)\n",
    "rec2 = metrics.recall_score(y_test_predict,y_test)\n",
    "f1_2 = metrics.f1_score(y_test_predict,y_test)"
   ]
  },
  {
   "cell_type": "code",
   "execution_count": 8,
   "metadata": {},
   "outputs": [
    {
     "name": "stderr",
     "output_type": "stream",
     "text": [
      "/Users/IAmNaveed/anaconda3/lib/python3.7/site-packages/sklearn/linear_model/logistic.py:433: FutureWarning: Default solver will be changed to 'lbfgs' in 0.22. Specify a solver to silence this warning.\n",
      "  FutureWarning)\n"
     ]
    }
   ],
   "source": [
    "regression = LogisticRegression()\n",
    "regression.fit(X_train_poly3, y_train)\n",
    "y_test_predict = regression.predict(degree_3.fit_transform(X_test))\n",
    "acc3 = metrics.accuracy_score(y_test_predict, y_test)\n",
    "pre3 = metrics.precision_score(y_test_predict,y_test)\n",
    "rec3 = metrics.recall_score(y_test_predict,y_test)\n",
    "f1_3 = metrics.f1_score(y_test_predict,y_test)"
   ]
  },
  {
   "cell_type": "code",
   "execution_count": 10,
   "metadata": {},
   "outputs": [
    {
     "data": {
      "text/html": [
       "<div>\n",
       "<style scoped>\n",
       "    .dataframe tbody tr th:only-of-type {\n",
       "        vertical-align: middle;\n",
       "    }\n",
       "\n",
       "    .dataframe tbody tr th {\n",
       "        vertical-align: top;\n",
       "    }\n",
       "\n",
       "    .dataframe thead th {\n",
       "        text-align: right;\n",
       "    }\n",
       "</style>\n",
       "<table border=\"1\" class=\"dataframe\">\n",
       "  <thead>\n",
       "    <tr style=\"text-align: right;\">\n",
       "      <th></th>\n",
       "      <th>Metric</th>\n",
       "      <th>First Order Logistic Regression</th>\n",
       "      <th>Second Order Logistic Regression</th>\n",
       "      <th>Third Order regression</th>\n",
       "    </tr>\n",
       "  </thead>\n",
       "  <tbody>\n",
       "    <tr>\n",
       "      <th>0</th>\n",
       "      <td>Accuracy</td>\n",
       "      <td>0.751260</td>\n",
       "      <td>0.824553</td>\n",
       "      <td>0.922584</td>\n",
       "    </tr>\n",
       "    <tr>\n",
       "      <th>1</th>\n",
       "      <td>Precision</td>\n",
       "      <td>0.639889</td>\n",
       "      <td>0.844875</td>\n",
       "      <td>0.984303</td>\n",
       "    </tr>\n",
       "    <tr>\n",
       "      <th>2</th>\n",
       "      <td>Recall</td>\n",
       "      <td>0.819149</td>\n",
       "      <td>0.809735</td>\n",
       "      <td>0.875205</td>\n",
       "    </tr>\n",
       "    <tr>\n",
       "      <th>3</th>\n",
       "      <td>F1 Score</td>\n",
       "      <td>0.718507</td>\n",
       "      <td>0.826932</td>\n",
       "      <td>0.926554</td>\n",
       "    </tr>\n",
       "  </tbody>\n",
       "</table>\n",
       "</div>"
      ],
      "text/plain": [
       "      Metric  First Order Logistic Regression  \\\n",
       "0   Accuracy                         0.751260   \n",
       "1  Precision                         0.639889   \n",
       "2     Recall                         0.819149   \n",
       "3   F1 Score                         0.718507   \n",
       "\n",
       "   Second Order Logistic Regression  Third Order regression  \n",
       "0                          0.824553                0.922584  \n",
       "1                          0.844875                0.984303  \n",
       "2                          0.809735                0.875205  \n",
       "3                          0.826932                0.926554  "
      ]
     },
     "execution_count": 10,
     "metadata": {},
     "output_type": "execute_result"
    }
   ],
   "source": [
    "table = pd.DataFrame({\n",
    "    'Metric': ['Accuracy', 'Precision', 'Recall', 'F1 Score'],\n",
    "    'First Order Logistic Regression': [acc1, pre1, rec1, f1_1],\n",
    "    'Second Order Logistic Regression' : [acc2, pre2, rec2, f1_2],\n",
    "    'Third Order regression' : [acc3, pre3, rec3, f1_3]})\n",
    "table"
   ]
  },
  {
   "cell_type": "markdown",
   "metadata": {},
   "source": [
    "Applying PCA"
   ]
  },
  {
   "cell_type": "code",
   "execution_count": 25,
   "metadata": {},
   "outputs": [
    {
     "data": {
      "text/plain": [
       "(7276, 17)"
      ]
     },
     "execution_count": 25,
     "metadata": {},
     "output_type": "execute_result"
    }
   ],
   "source": [
    "from sklearn.decomposition import PCA\n",
    "pca = PCA(n_components=0.80)\n",
    "x_pca = pca.fit_transform(X)\n",
    "x_pca.shape"
   ]
  },
  {
   "cell_type": "code",
   "execution_count": 26,
   "metadata": {},
   "outputs": [],
   "source": [
    "X_train, X_test, y_train, y_test = train_test_split(x_pca, y, test_size=0.30, random_state=42)"
   ]
  },
  {
   "cell_type": "code",
   "execution_count": 27,
   "metadata": {},
   "outputs": [],
   "source": [
    "degree_1 = PolynomialFeatures(degree=1)\n",
    "degree_2 = PolynomialFeatures(degree=2)\n",
    "degree_3 = PolynomialFeatures(degree=3)\n",
    "X_train_poly1 = degree_1.fit_transform(X_train)\n",
    "X_train_poly2 = degree_2.fit_transform(X_train)\n",
    "X_train_poly3 = degree_3.fit_transform(X_train)"
   ]
  },
  {
   "cell_type": "code",
   "execution_count": 28,
   "metadata": {},
   "outputs": [],
   "source": [
    "regression = LogisticRegression()\n",
    "regression.fit(X_train_poly1, y_train)\n",
    "y_test_predict = regression.predict(degree_1.fit_transform(X_test))\n",
    "acc1 = metrics.accuracy_score(y_test_predict, y_test)\n",
    "pre1 = metrics.precision_score(y_test_predict,y_test)\n",
    "rec1 = metrics.recall_score(y_test_predict,y_test)\n",
    "f1_1 = metrics.f1_score(y_test_predict,y_test)"
   ]
  },
  {
   "cell_type": "code",
   "execution_count": 29,
   "metadata": {},
   "outputs": [],
   "source": [
    "regression = LogisticRegression()\n",
    "regression.fit(X_train_poly2, y_train)\n",
    "y_test_predict = regression.predict(degree_2.fit_transform(X_test))\n",
    "acc2 = metrics.accuracy_score(y_test_predict, y_test)\n",
    "pre2 = metrics.precision_score(y_test_predict,y_test)\n",
    "rec2 = metrics.recall_score(y_test_predict,y_test)\n",
    "f1_2 = metrics.f1_score(y_test_predict,y_test)"
   ]
  },
  {
   "cell_type": "code",
   "execution_count": 30,
   "metadata": {},
   "outputs": [],
   "source": [
    "regression = LogisticRegression()\n",
    "regression.fit(X_train_poly3, y_train)\n",
    "y_test_predict = regression.predict(degree_3.fit_transform(X_test))\n",
    "acc3 = metrics.accuracy_score(y_test_predict, y_test)\n",
    "pre3 = metrics.precision_score(y_test_predict,y_test)\n",
    "rec3 = metrics.recall_score(y_test_predict,y_test)\n",
    "f1_3 = metrics.f1_score(y_test_predict,y_test)"
   ]
  },
  {
   "cell_type": "code",
   "execution_count": 31,
   "metadata": {},
   "outputs": [
    {
     "data": {
      "text/html": [
       "<div>\n",
       "<style scoped>\n",
       "    .dataframe tbody tr th:only-of-type {\n",
       "        vertical-align: middle;\n",
       "    }\n",
       "\n",
       "    .dataframe tbody tr th {\n",
       "        vertical-align: top;\n",
       "    }\n",
       "\n",
       "    .dataframe thead th {\n",
       "        text-align: right;\n",
       "    }\n",
       "</style>\n",
       "<table border=\"1\" class=\"dataframe\">\n",
       "  <thead>\n",
       "    <tr style=\"text-align: right;\">\n",
       "      <th></th>\n",
       "      <th>Metric</th>\n",
       "      <th>First Order Logistic Regression</th>\n",
       "      <th>Second Order Logistic Regression</th>\n",
       "      <th>Third Order regression</th>\n",
       "    </tr>\n",
       "  </thead>\n",
       "  <tbody>\n",
       "    <tr>\n",
       "      <th>0</th>\n",
       "      <td>Accuracy</td>\n",
       "      <td>0.732478</td>\n",
       "      <td>0.739350</td>\n",
       "      <td>0.854329</td>\n",
       "    </tr>\n",
       "    <tr>\n",
       "      <th>1</th>\n",
       "      <td>Precision</td>\n",
       "      <td>0.667590</td>\n",
       "      <td>0.690674</td>\n",
       "      <td>0.912281</td>\n",
       "    </tr>\n",
       "    <tr>\n",
       "      <th>2</th>\n",
       "      <td>Recall</td>\n",
       "      <td>0.763464</td>\n",
       "      <td>0.761711</td>\n",
       "      <td>0.815855</td>\n",
       "    </tr>\n",
       "    <tr>\n",
       "      <th>3</th>\n",
       "      <td>F1 Score</td>\n",
       "      <td>0.712315</td>\n",
       "      <td>0.724455</td>\n",
       "      <td>0.861378</td>\n",
       "    </tr>\n",
       "  </tbody>\n",
       "</table>\n",
       "</div>"
      ],
      "text/plain": [
       "      Metric  First Order Logistic Regression  \\\n",
       "0   Accuracy                         0.732478   \n",
       "1  Precision                         0.667590   \n",
       "2     Recall                         0.763464   \n",
       "3   F1 Score                         0.712315   \n",
       "\n",
       "   Second Order Logistic Regression  Third Order regression  \n",
       "0                          0.739350                0.854329  \n",
       "1                          0.690674                0.912281  \n",
       "2                          0.761711                0.815855  \n",
       "3                          0.724455                0.861378  "
      ]
     },
     "execution_count": 31,
     "metadata": {},
     "output_type": "execute_result"
    }
   ],
   "source": [
    "table = pd.DataFrame({\n",
    "    'Metric': ['Accuracy', 'Precision', 'Recall', 'F1 Score'],\n",
    "    'First Order Logistic Regression': [acc1, pre1, rec1, f1_1],\n",
    "    'Second Order Logistic Regression' : [acc2, pre2, rec2, f1_2],\n",
    "    'Third Order regression' : [acc3, pre3, rec3, f1_3]})\n",
    "table"
   ]
  },
  {
   "cell_type": "code",
   "execution_count": null,
   "metadata": {},
   "outputs": [],
   "source": []
  }
 ],
 "metadata": {
  "kernelspec": {
   "display_name": "Python 3",
   "language": "python",
   "name": "python3"
  },
  "language_info": {
   "codemirror_mode": {
    "name": "ipython",
    "version": 3
   },
   "file_extension": ".py",
   "mimetype": "text/x-python",
   "name": "python",
   "nbconvert_exporter": "python",
   "pygments_lexer": "ipython3",
   "version": "3.7.1"
  }
 },
 "nbformat": 4,
 "nbformat_minor": 2
}
